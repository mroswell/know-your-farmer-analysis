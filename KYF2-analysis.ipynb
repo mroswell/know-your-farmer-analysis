{
 "cells": [
  {
   "cell_type": "code",
   "execution_count": 11,
   "metadata": {},
   "outputs": [],
   "source": [
    "import numpy as np\n",
    "import pandas as pd\n",
    "import re\n",
    "from altair import Chart, load_dataset, X, Y, Color, Axis, Legend, Scale, SortField\n",
    "from geocodio import GeocodioClient\n",
    "client = GeocodioClient('0f669aa4d57d7dab0ba9b8dd049a9957678985d')\n",
    "\n"
   ]
  },
  {
   "cell_type": "code",
   "execution_count": 12,
   "metadata": {
    "collapsed": true
   },
   "outputs": [],
   "source": [
    "import matplotlib.pyplot as plt\n",
    "import matplotlib\n",
    "import seaborn as sns\n",
    "\n",
    "%matplotlib inline"
   ]
  },
  {
   "cell_type": "code",
   "execution_count": null,
   "metadata": {
    "collapsed": true
   },
   "outputs": [],
   "source": []
  },
  {
   "cell_type": "code",
   "execution_count": 13,
   "metadata": {
    "collapsed": true,
    "scrolled": true
   },
   "outputs": [],
   "source": [
    "#  dtype={'Funding': np.float64},\n",
    "kyf2 = pd.read_excel('KYF2 new compass data 2015.xls', na_values=\"No Data\",\n",
    "                     skip_footer=2, encoding='xlrd', parse_dates=['Year'])\n"
   ]
  },
  {
   "cell_type": "code",
   "execution_count": 14,
   "metadata": {
    "scrolled": false
   },
   "outputs": [
    {
     "name": "stdout",
     "output_type": "stream",
     "text": [
      "<class 'pandas.core.frame.DataFrame'>\n",
      "RangeIndex: 4185 entries, 0 to 4184\n",
      "Data columns (total 34 columns):\n",
      "Title                4185 non-null object\n",
      "Name                 4185 non-null object\n",
      "Abbreviati           4185 non-null object\n",
      "Year                 4185 non-null datetime64[ns]\n",
      "Address              4185 non-null object\n",
      "State                4185 non-null object\n",
      "Town                 4185 non-null object\n",
      "Zip                  4185 non-null object\n",
      "Agency               4185 non-null object\n",
      "Mission_Ar           4185 non-null object\n",
      "Recipient            4185 non-null object\n",
      "Recipient_           4185 non-null object\n",
      "Funding              4176 non-null float64\n",
      "Funding_Ty           4185 non-null object\n",
      "Description          4185 non-null object\n",
      "Topic_A              4185 non-null object\n",
      "Topic_B              4185 non-null object\n",
      "Topic_C              4046 non-null object\n",
      "More_infor           4185 non-null object\n",
      "X                    4185 non-null float64\n",
      "Y                    4185 non-null float64\n",
      "Cooking              207 non-null float64\n",
      "Tourism              82 non-null float64\n",
      "Food Deserts         85 non-null float64\n",
      "Beef                 67 non-null float64\n",
      "Alcohol              112 non-null float64\n",
      "Bees                 18 non-null float64\n",
      "Youth                510 non-null float64\n",
      "Beginning Farmers    129 non-null float64\n",
      "Organic              130 non-null float64\n",
      "Blueberries          27 non-null float64\n",
      "Heritage             31 non-null float64\n",
      "Soilless             21 non-null float64\n",
      "Logo/Branding        75 non-null float64\n",
      "dtypes: datetime64[ns](1), float64(16), object(17)\n",
      "memory usage: 1.1+ MB\n"
     ]
    }
   ],
   "source": [
    "kyf2.info()"
   ]
  },
  {
   "cell_type": "code",
   "execution_count": 25,
   "metadata": {},
   "outputs": [
    {
     "data": {
      "text/html": [
       "<div>\n",
       "<style>\n",
       "    .dataframe thead tr:only-child th {\n",
       "        text-align: right;\n",
       "    }\n",
       "\n",
       "    .dataframe thead th {\n",
       "        text-align: left;\n",
       "    }\n",
       "\n",
       "    .dataframe tbody tr th {\n",
       "        vertical-align: top;\n",
       "    }\n",
       "</style>\n",
       "<table border=\"1\" class=\"dataframe\">\n",
       "  <thead>\n",
       "    <tr style=\"text-align: right;\">\n",
       "      <th></th>\n",
       "      <th>index</th>\n",
       "      <th>count</th>\n",
       "    </tr>\n",
       "  </thead>\n",
       "  <tbody>\n",
       "    <tr>\n",
       "      <th>0</th>\n",
       "      <td>Bees</td>\n",
       "      <td>18</td>\n",
       "    </tr>\n",
       "    <tr>\n",
       "      <th>1</th>\n",
       "      <td>Soilless</td>\n",
       "      <td>21</td>\n",
       "    </tr>\n",
       "    <tr>\n",
       "      <th>2</th>\n",
       "      <td>Blueberries</td>\n",
       "      <td>27</td>\n",
       "    </tr>\n",
       "    <tr>\n",
       "      <th>3</th>\n",
       "      <td>Heritage</td>\n",
       "      <td>31</td>\n",
       "    </tr>\n",
       "    <tr>\n",
       "      <th>4</th>\n",
       "      <td>Beef</td>\n",
       "      <td>67</td>\n",
       "    </tr>\n",
       "    <tr>\n",
       "      <th>5</th>\n",
       "      <td>Logo/Branding</td>\n",
       "      <td>75</td>\n",
       "    </tr>\n",
       "    <tr>\n",
       "      <th>6</th>\n",
       "      <td>Tourism</td>\n",
       "      <td>82</td>\n",
       "    </tr>\n",
       "    <tr>\n",
       "      <th>7</th>\n",
       "      <td>Food Deserts</td>\n",
       "      <td>85</td>\n",
       "    </tr>\n",
       "    <tr>\n",
       "      <th>8</th>\n",
       "      <td>Alcohol</td>\n",
       "      <td>112</td>\n",
       "    </tr>\n",
       "    <tr>\n",
       "      <th>9</th>\n",
       "      <td>Beginning Farmers</td>\n",
       "      <td>129</td>\n",
       "    </tr>\n",
       "    <tr>\n",
       "      <th>10</th>\n",
       "      <td>Organic</td>\n",
       "      <td>130</td>\n",
       "    </tr>\n",
       "    <tr>\n",
       "      <th>11</th>\n",
       "      <td>Cooking</td>\n",
       "      <td>207</td>\n",
       "    </tr>\n",
       "    <tr>\n",
       "      <th>12</th>\n",
       "      <td>Youth</td>\n",
       "      <td>510</td>\n",
       "    </tr>\n",
       "  </tbody>\n",
       "</table>\n",
       "</div>"
      ],
      "text/plain": [
       "                index  count\n",
       "0                Bees     18\n",
       "1            Soilless     21\n",
       "2         Blueberries     27\n",
       "3            Heritage     31\n",
       "4                Beef     67\n",
       "5       Logo/Branding     75\n",
       "6             Tourism     82\n",
       "7        Food Deserts     85\n",
       "8             Alcohol    112\n",
       "9   Beginning Farmers    129\n",
       "10            Organic    130\n",
       "11            Cooking    207\n",
       "12              Youth    510"
      ]
     },
     "execution_count": 25,
     "metadata": {},
     "output_type": "execute_result"
    }
   ],
   "source": [
    "counts = kyf2.describe().iloc[0:1,3:]\n",
    "counts[counts.columns] = counts[counts.columns].astype(int)\n",
    "count_df = counts.T.sort_values('count')\n",
    "count_df.reset_index(inplace=True)\n",
    "count_df\n",
    "\n"
   ]
  },
  {
   "cell_type": "code",
   "execution_count": 27,
   "metadata": {
    "scrolled": false
   },
   "outputs": [
    {
     "data": {
      "text/html": [
       "<div class=\"vega-embed\" id=\"e24e8ddd-e5b3-4f39-b3b3-c1e4f923cbd6\"></div>\n",
       "\n",
       "<style>\n",
       ".vega-embed svg, .vega-embed canvas {\n",
       "  border: 1px dotted gray;\n",
       "}\n",
       "\n",
       ".vega-embed .vega-actions a {\n",
       "  margin-right: 6px;\n",
       "}\n",
       "</style>\n"
      ]
     },
     "metadata": {
      "jupyter-vega": "#e24e8ddd-e5b3-4f39-b3b3-c1e4f923cbd6"
     },
     "output_type": "display_data"
    },
    {
     "data": {
      "application/javascript": [
       "var spec = {\"data\": {\"values\": [{\"count\": 18, \"index\": \"Bees\"}, {\"count\": 21, \"index\": \"Soilless\"}, {\"count\": 27, \"index\": \"Blueberries\"}, {\"count\": 31, \"index\": \"Heritage\"}, {\"count\": 67, \"index\": \"Beef\"}, {\"count\": 75, \"index\": \"Logo/Branding\"}, {\"count\": 82, \"index\": \"Tourism\"}, {\"count\": 85, \"index\": \"Food Deserts\"}, {\"count\": 112, \"index\": \"Alcohol\"}, {\"count\": 129, \"index\": \"Beginning Farmers\"}, {\"count\": 130, \"index\": \"Organic\"}, {\"count\": 207, \"index\": \"Cooking\"}, {\"count\": 510, \"index\": \"Youth\"}]}, \"encoding\": {\"y\": {\"sort\": {\"field\": \"count\", \"order\": \"ascending\", \"op\": \"sum\"}, \"field\": \"index\", \"type\": \"nominal\", \"axis\": {\"title\": \"Category\"}}, \"x\": {\"field\": \"count\", \"type\": \"quantitative\"}}, \"config\": {\"cell\": {\"width\": 500, \"height\": 350}}, \"mark\": \"bar\"};\n",
       "var selector = \"#e24e8ddd-e5b3-4f39-b3b3-c1e4f923cbd6\";\n",
       "var type = \"vega-lite\";\n",
       "\n",
       "var output_area = this;\n",
       "require(['nbextensions/jupyter-vega/index'], function(vega) {\n",
       "  vega.render(selector, spec, type, output_area);\n",
       "}, function (err) {\n",
       "  if (err.requireType !== 'scripterror') {\n",
       "    throw(err);\n",
       "  }\n",
       "});\n"
      ]
     },
     "metadata": {
      "jupyter-vega": "#e24e8ddd-e5b3-4f39-b3b3-c1e4f923cbd6"
     },
     "output_type": "display_data"
    },
    {
     "data": {
      "image/png": "[encoded data removed]"
     },
     "metadata": {
      "jupyter-vega": "#e24e8ddd-e5b3-4f39-b3b3-c1e4f923cbd6"
     },
     "output_type": "display_data"
    }
   ],
   "source": [
    "Chart(count_df).mark_bar().encode(y=Y('index', sort=SortField(field='count', order='ascending', op='sum'),\n",
    "        axis=Axis(title='Category')), x='count')\n",
    "   \n"
   ]
  },
  {
   "cell_type": "code",
   "execution_count": null,
   "metadata": {
    "collapsed": true
   },
   "outputs": [],
   "source": [
    "# convert categories to boolean values\n",
    "bool_columns = ['Cooking','Tourism','Food Deserts','Beef','Alcohol','Bees','Youth',\n",
    "                'Beginning Farmers','Organic','Blueberries', 'Heritage','Soilless','Logo/Branding']\n",
    "kyf2[bool_columns] = kyf2[bool_columns].fillna(value=0)\n",
    "kyf2[bool_columns] = kyf2[bool_columns].astype(int)\n"
   ]
  },
  {
   "cell_type": "code",
   "execution_count": null,
   "metadata": {
    "collapsed": true,
    "scrolled": true
   },
   "outputs": [],
   "source": [
    "\n",
    "# # load data as a pandas DataFrame\n",
    "# cars = load_dataset('cars')\n",
    "\n",
    "# Chart(cars).mark_point().encode(\n",
    "#     x='Horsepower',\n",
    "#     y='Miles_per_Gallon',\n",
    "#     color='Origin',\n",
    "# )\n"
   ]
  },
  {
   "cell_type": "code",
   "execution_count": null,
   "metadata": {
    "scrolled": true
   },
   "outputs": [],
   "source": [
    "Chart(count_df).mark_bar().encode(y='index', x='count')\n"
   ]
  },
  {
   "cell_type": "code",
   "execution_count": null,
   "metadata": {},
   "outputs": [],
   "source": [
    "kyf2.head(12)"
   ]
  },
  {
   "cell_type": "markdown",
   "metadata": {},
   "source": [
    "Grants vs. Loans"
   ]
  },
  {
   "cell_type": "code",
   "execution_count": null,
   "metadata": {},
   "outputs": [],
   "source": [
    "# create a new column that normalizes the funding type\n",
    "\n",
    "# this regular expression finds \"Grant\", \"grant\" and \"Grants\"\n",
    "grantre = re.compile('grant.?', re.IGNORECASE)\n",
    "# np.where(re.match(grantre, kyf2.Funding_Ty))\n",
    "# kyf2.Funding_Ty.to_replace(grantre, \"Grant\")\n",
    "\n",
    "\n",
    "kyf2['grant'] = np.where(kyf2.Funding_Ty.str.contains(grantre), 1,0)\n",
    "print \"Grants: \", sum(kyf2['grant'])\n",
    "kyf2['loan'] = np.where(kyf2.Funding_Ty.str.contains('Loan'), 1,0)\n",
    "print \"Loans: \", sum(kyf2['loan'])\n",
    "kyf2['grant_loan'] = np.where(kyf2.Funding_Ty.str.contains(grantre), \"Grant\",\"\")\n",
    "kyf2['grant_loan'] = np.where(kyf2.Funding_Ty.str.contains(\"Loan\"), \"Loan\",kyf2['grant_loan'])\n",
    "kyf2['grant_loan'].value_counts(dropna=False)\n",
    "kyf2[['Funding_Ty','grant_loan']].sample(20).head(20)"
   ]
  },
  {
   "cell_type": "code",
   "execution_count": null,
   "metadata": {
    "scrolled": true
   },
   "outputs": [],
   "source": [
    "funding_bar_data = kyf2[['Funding','Year', 'grant_loan']].copy()\n",
    "\n",
    "# pd.set_option('display.float_format', lambda x: '$%.0f' % x)\n",
    "pd.options.display.float_format = '${:,.0f}'.format\n",
    "print funding_bar_data.groupby(['Year','grant_loan']).sum()"
   ]
  },
  {
   "cell_type": "code",
   "execution_count": null,
   "metadata": {
    "collapsed": true
   },
   "outputs": [],
   "source": [
    "pd.options.display.float_format = None"
   ]
  },
  {
   "cell_type": "code",
   "execution_count": null,
   "metadata": {},
   "outputs": [],
   "source": [
    "grants_chart = Chart(funding_bar_data).mark_bar( barSize=25).encode(\n",
    "    color=Color('grant_loan',\n",
    "        legend=Legend(\n",
    "            title='Legend',\n",
    "        ),\n",
    "        scale=Scale(\n",
    "            domain=['Loan', 'Grant'],\n",
    "            range=['salmon', '#1f77b4'],\n",
    "        )\n",
    "    ),\n",
    "    x=X('Year:T',\n",
    "        axis=Axis(\n",
    "            title='Year',\n",
    "        ),\n",
    "        timeUnit='year',\n",
    "    ),\n",
    "    y='sum(Funding):Q',\n",
    ").configure_cell(\n",
    "    height=200,\n",
    "    width=330\n",
    ").configure_scale(bandSize=500)"
   ]
  },
  {
   "cell_type": "code",
   "execution_count": null,
   "metadata": {
    "scrolled": true
   },
   "outputs": [],
   "source": [
    "grants_chart"
   ]
  },
  {
   "cell_type": "code",
   "execution_count": null,
   "metadata": {},
   "outputs": [],
   "source": [
    "! pip freeze | grep -E \"notebook|geo|altair\"\n",
    "# ! pip freeze | grep 'pandas'\n"
   ]
  },
  {
   "cell_type": "code",
   "execution_count": null,
   "metadata": {},
   "outputs": [],
   "source": [
    "df = load_dataset('seattle-weather')\n",
    "Chart(df).mark_bar().encode(\n",
    "    X('precipitation', bin=True),\n",
    "    Y('count(*):Q')\n",
    ")"
   ]
  },
  {
   "cell_type": "code",
   "execution_count": null,
   "metadata": {
    "collapsed": true
   },
   "outputs": [],
   "source": [
    "# rename columns\n",
    "kyf2.rename(columns={'X': 'lon', 'Y':'lat'}, inplace=True)\n",
    "# kyf2.reset_index(inplace=True)\n",
    "# kyf_for_geocodio = kyf2[['index',  'lat', 'lon', 'Address', 'State', 'Town', 'Zip']]\n",
    "# kyf_for_geocodio.to_csv('kyf2latlon1.csv', encoding='utf-8')\n"
   ]
  },
  {
   "cell_type": "code",
   "execution_count": null,
   "metadata": {},
   "outputs": [],
   "source": [
    "kyf2.head(2)"
   ]
  },
  {
   "cell_type": "code",
   "execution_count": null,
   "metadata": {
    "collapsed": true
   },
   "outputs": [],
   "source": [
    "# determine if Funding row has null values\n",
    "# np.where(pd.isnull(kyf2.Funding))\n",
    "# kyf2['Funding'].hasnans\n",
    "# nan_rows = kyf2[kyf2.Funding.isnull()]\n",
    "# nanFunding_rows = kyf2.Funding.dropna(axis=0, inplace=True)\n",
    "# nanFunding_rows\n",
    "# print kyf2.sample(6).iloc[:, 10:-10:].head(12)\n",
    "\n",
    "# kyf2 = kyf2[pd.notnull(kyf2['Funding'])]\n",
    "# pd.notnull(kyf2['Funding'])\n",
    "# Drop the nine records with no data for Funding\n",
    "kyf2 = kyf2.dropna(subset=['Funding'])\n"
   ]
  },
  {
   "cell_type": "code",
   "execution_count": null,
   "metadata": {},
   "outputs": [],
   "source": [
    "print '--- Count by Year ---'\n",
    "print kyf2.Year.value_counts().sort_index()\n",
    "print '--- Count by Funding_Ty value ---'\n",
    "print kyf2.Funding_Ty.value_counts().sort_index()\n",
    "print '--- Column list ---'\n",
    "print kyf2.columns\n"
   ]
  },
  {
   "cell_type": "code",
   "execution_count": null,
   "metadata": {
    "collapsed": true
   },
   "outputs": [],
   "source": [
    "# create a file of all the awardees that were not geocoded\n",
    "lon_zero = kyf2[kyf2['lon']==0.0]\n",
    "lon_zero.to_csv('lon_zero.csv', encoding='utf-8')"
   ]
  },
  {
   "cell_type": "code",
   "execution_count": null,
   "metadata": {},
   "outputs": [],
   "source": [
    "# import the dataset of ungeocoded records\n",
    "lon_zero4geocoding = pd.read_csv('lon_zero.csv', encoding='utf-8')\n",
    "lon_zero4geocoding['Zip'] = lon_zero4geocoding.Zip.astype(str)\n",
    "lon_zero4geocoding"
   ]
  },
  {
   "cell_type": "code",
   "execution_count": null,
   "metadata": {
    "scrolled": true
   },
   "outputs": [],
   "source": [
    "address_cols = ['Unnamed: 0','Address','Town','State','Zip']\n",
    "df = lon_zero4geocoding[address_cols]\n",
    "# df.reset_index(inplace=True)\n",
    "df['full_address'] =  df['Address'] \\\n",
    "+\", \" + df['Town'] + \", \" \\\n",
    "+ df['State'] + \" \" \\\n",
    "+ df['Zip']\n",
    "\n",
    "#extract for list of index numbers for geocoding\n",
    "lon_zero_list = df.iloc[:, -1].tolist()\n",
    "lon_zero_list\n",
    "# geocode the awardees that had a longitude of 0\n",
    "# geocoded = client.geocode(lon_zero_list)\n",
    "df\n"
   ]
  },
  {
   "cell_type": "code",
   "execution_count": null,
   "metadata": {},
   "outputs": [],
   "source": [
    "# create a DataFrame of latitudes and longitudes\n",
    "# in the same order as the original extracted list\n",
    "# awardee_geocodes = {}\n",
    "# counter = 0\n",
    "# for awardee in geocoded:\n",
    "#     awardee_geocodes[counter] = {}\n",
    "\n",
    "#     results = awardee.values()[1][0]\n",
    "#     latitude = results['location']['lat']\n",
    "#     longitude = results['location']['lng']\n",
    "#     awardee_geocodes[counter]['latitude'] = latitude\n",
    "#     awardee_geocodes[counter]['longitude'] = longitude\n",
    "#     counter +=1\n",
    "# awardee_geocodes\n",
    "# awardee_geocodes_df = pd.DataFrame(awardee_geocodes).T\n",
    "# awardee_geocodes_df\n",
    "\n",
    "geocoded['coords']=tuple(zip(geocoded.latitude, geocoded.longitude))\n",
    "sample_loclist = geocoded['coords'].tolist()\n",
    "sample_loclist"
   ]
  },
  {
   "cell_type": "code",
   "execution_count": null,
   "metadata": {},
   "outputs": [],
   "source": [
    "#append the latitude and longitude to the previously ungeocoded addresses\n",
    "joined_geo_df = df.join(awardee_geocodes_df)\n",
    "joined_geo_df.set_index('Unnamed: 0', inplace=True)\n",
    "joined_geo_df"
   ]
  },
  {
   "cell_type": "code",
   "execution_count": null,
   "metadata": {},
   "outputs": [],
   "source": [
    "# create a list of indeces for updating\n",
    "to_update_list = list(joined_geo_df.index.values)\n",
    "to_update_list"
   ]
  },
  {
   "cell_type": "code",
   "execution_count": null,
   "metadata": {
    "collapsed": true
   },
   "outputs": [],
   "source": [
    "for idx in to_update_list:\n",
    "    kyf2.loc[idx, 'lat'] = joined_geo_df.loc[idx, 'latitude']\n",
    "    kyf2.loc[idx, 'lon'] = joined_geo_df.loc[idx, 'longitude']\n"
   ]
  },
  {
   "cell_type": "code",
   "execution_count": null,
   "metadata": {},
   "outputs": [],
   "source": [
    "lon_zero = kyf2[kyf2['lon']==0.0]\n",
    "print lon_zero[8:-12]\n",
    "kyf2[8:-12].head()"
   ]
  },
  {
   "cell_type": "code",
   "execution_count": null,
   "metadata": {},
   "outputs": [],
   "source": [
    "# display first 3 records, not including the last 16 columns\n",
    "# print kyf2.sample(6).iloc[:, 12::].head(12)\n",
    "# kyf2.iloc[1014:, 10:-3:].head(4)\n",
    "kyf2.iloc[1474:, 2:-13:].head(2)"
   ]
  },
  {
   "cell_type": "code",
   "execution_count": null,
   "metadata": {},
   "outputs": [],
   "source": [
    "kyf2.dtypes"
   ]
  },
  {
   "cell_type": "code",
   "execution_count": null,
   "metadata": {},
   "outputs": [],
   "source": [
    "# pd.set_option('display.float_format', lambda x: '%.2f' % x)\n",
    "pd.options.display.float_format = '${:,.2f}'.format\n",
    "print pd.DataFrame(kyf2.groupby(['grant_loan']).Funding.mean()) \\\n",
    ".join(pd.DataFrame(kyf2.grant_loan.value_counts()))"
   ]
  },
  {
   "cell_type": "code",
   "execution_count": null,
   "metadata": {
    "collapsed": true
   },
   "outputs": [],
   "source": [
    "pd.options.display.float_format = None"
   ]
  },
  {
   "cell_type": "code",
   "execution_count": null,
   "metadata": {},
   "outputs": [],
   "source": [
    "print matplotlib.__version__\n",
    "pair_data_cols = ['Funding', 'lat', 'lon','grant','loan','Year']\n",
    "kyf2_nums = kyf2[pair_data_cols]\n",
    "# sns.pairplot(kyf2.iloc[:, :-14:], hue='grant_loan')\n",
    "\n",
    "sns.pairplot(kyf2_nums, hue='grant')\n",
    "# kyf2_nums"
   ]
  },
  {
   "cell_type": "code",
   "execution_count": null,
   "metadata": {},
   "outputs": [],
   "source": [
    "import locale\n",
    "locale.setlocale(locale.LC_ALL, 'en_US')\n",
    "# 'en_US'\n",
    "locale.format(\"%d\", 1255000, grouping=True)\n",
    "# '1,255,000'"
   ]
  },
  {
   "cell_type": "code",
   "execution_count": null,
   "metadata": {
    "scrolled": true
   },
   "outputs": [],
   "source": [
    "# # sns.plt.ticklabel_format(style='plain', axis='both',useOffset=False)\n",
    "# from matplotlib.ticker import ScalarFormatter, FormatStrFormatter\n",
    "# # ax = plt.gca()\n",
    "# fig, ax = plt.subplots(1, 1)\n",
    "\n",
    "# # ax.xaxis.set_major_formatter(FormatStrFormatter('$%0.2f'))\n",
    "# fmt = '${x:,.0f}'\n",
    "# # tick = StrMethodFormatter(fmt)\n",
    "# ax.xaxis.set_major_formatter(fmt)\n",
    "\n",
    "\n",
    "from matplotlib.ticker import FormatStrFormatter\n",
    "\n",
    "fig, ax = plt.subplots()\n",
    "\n",
    "ax.yaxis.set_major_formatter(FormatStrFormatter('${x:,.0f}'))\n",
    "sns.distplot(kyf2['Funding'], kde=False, bins =100)"
   ]
  },
  {
   "cell_type": "code",
   "execution_count": null,
   "metadata": {},
   "outputs": [],
   "source": [
    "import matplotlib.pyplot as plt\n",
    "import matplotlib.ticker as mtick\n",
    "\n",
    "df = pd.DataFrame({'A': ['A', 'B'], 'B': [1000,2000]})\n",
    "\n",
    "fig, ax = plt.subplots(1, 1, figsize=(2, 2))\n",
    "df.plot(kind='bar', x='A', y='B',\n",
    "        align='center', width=.5, edgecolor='none', \n",
    "        color='grey', ax=ax)\n",
    "\n",
    "fmt = '${x:,.0f}'\n",
    "tick = mtick.StrMethodFormatter(fmt)\n",
    "ax.yaxis.set_major_formatter(tick) \n",
    "plt.xticks(rotation=25)\n",
    "\n",
    "plt.show()"
   ]
  },
  {
   "cell_type": "code",
   "execution_count": null,
   "metadata": {},
   "outputs": [],
   "source": [
    "from matplotlib.ticker import FuncFormatter\n",
    "import matplotlib.pyplot as plt\n",
    "import numpy as np\n",
    "\n",
    "x = np.arange(4)\n",
    "money = [1.5e5, 2.5e6, 5.5e6, 2.0e7]def millions(x, pos):\n",
    "    'The two args are the value and tick position'\n",
    "    return '$%1.1fM' % (x*1e-6)\n",
    "\n",
    "formatter = FuncFormatter(millions)\n",
    "\n",
    "fig, ax = plt.subplots()\n",
    "ax.xaxis.set_major_formatter(formatter)\n",
    "plt.bar(x, money)\n",
    "plt.xticks(x, ('Bill', 'Fred', 'Mary', 'Sue'))\n",
    "plt.show()"
   ]
  },
  {
   "cell_type": "code",
   "execution_count": null,
   "metadata": {
    "scrolled": true
   },
   "outputs": [],
   "source": [
    "corr = kyf2.corr()\n",
    "sns.heatmap(corr, linewidths= 0.25)"
   ]
  },
  {
   "cell_type": "code",
   "execution_count": null,
   "metadata": {},
   "outputs": [],
   "source": [
    "locations = kyf2[['lat', 'lon']].sample(60).head(100)\n",
    "locationlist = locations.values.tolist()\n",
    "print locations"
   ]
  },
  {
   "cell_type": "code",
   "execution_count": null,
   "metadata": {
    "scrolled": true
   },
   "outputs": [],
   "source": [
    "locations['coords']=tuple(zip(locations.lat, locations.lon))\n",
    "loclist = locations['coords'].tolist()\n",
    "# coordscol = locations['coords']\n",
    "# coordscol.tolist\n",
    "loclist"
   ]
  },
  {
   "cell_type": "code",
   "execution_count": null,
   "metadata": {},
   "outputs": [],
   "source": [
    "locations['coords']"
   ]
  },
  {
   "cell_type": "code",
   "execution_count": null,
   "metadata": {},
   "outputs": [],
   "source": [
    "# Get two sample geocodes from each state\n",
    "each_state = kyf2.groupby('State').head(2).loc[:, [\"lat\", 'lon']]\n",
    "# sample_geo_2 = sample_geo.reset_index()\n",
    "\n",
    "each_state['coords']=tuple(zip(each_state.lat, each_state.lon))\n",
    "each_state_list = each_state['coords'].tolist()\n",
    "each_state_list\n",
    "\n",
    "# counter = 0\n",
    "# geo_dict = {}\n",
    "# for sampleloc in sample_geo_2:\n",
    "#     geo_dict[counter] = {}\n",
    "# #     geo_dict[counter]['latitude'] = sampleloc['latitude']\n",
    "# #     geo_dict[counter]['longitude'] = sampleloc['longitude']\n",
    "#     counter+=1\n",
    "#     print sampleloc\n",
    "# print geo_dict"
   ]
  },
  {
   "cell_type": "code",
   "execution_count": null,
   "metadata": {},
   "outputs": [],
   "source": [
    "sample_states_geo = client.reverse(each_state, fields=['cd', 'stateleg', 'census'])\n",
    "sample_states_geo.formatted_addresses\n"
   ]
  },
  {
   "cell_type": "code",
   "execution_count": null,
   "metadata": {},
   "outputs": [],
   "source": [
    "samplegeo"
   ]
  },
  {
   "cell_type": "code",
   "execution_count": null,
   "metadata": {
    "collapsed": true
   },
   "outputs": [],
   "source": []
  },
  {
   "cell_type": "code",
   "execution_count": null,
   "metadata": {
    "scrolled": false
   },
   "outputs": [],
   "source": [
    "kyfgeo = client.reverse(loclist, fields=[\"cd\", \"stateleg\", 'census'])\n",
    "# kyfgeo.get('32.372458,-81.557286')\n",
    "type(kyfgeo)\n",
    "df_addresses = pd.DataFrame(kyfgeo.formatted_addresses)\n",
    "df_addresses"
   ]
  },
  {
   "cell_type": "code",
   "execution_count": null,
   "metadata": {},
   "outputs": [],
   "source": [
    "details = {}\n",
    "counter = 0\n",
    "for loc in kyfgeo:\n",
    "    details[counter] = {}\n",
    "\n",
    "    results = loc.values()[0][0]\n",
    "    fields = results['fields']\n",
    "    census= fields['census']    \n",
    "    \n",
    "    census_year = census['census_year']\n",
    "    state_fips = census['state_fips']\n",
    "    county_fips = census['county_fips']\n",
    "    place_fips = census['place_fips']\n",
    "    tract_code = census['tract_code']\n",
    "    block_code = census['block_code']\n",
    "    block_group = census['block_group']\n",
    "    \n",
    "    accuracy = results['accuracy']\n",
    "    accuracy_type = results['accuracy_type']\n",
    "    details[counter]['census_year'] = census_year\n",
    "    details[counter]['state_fips'] = state_fips\n",
    "    details[counter]['county_fips'] = county_fips\n",
    "    details[counter]['place_fips'] = place_fips\n",
    "    details[counter]['tract_code'] = tract_code\n",
    "    details[counter]['census_year'] = block_group\n",
    "    details[counter]['accuracy'] = accuracy\n",
    "    details[counter]['accuracy_type'] = accuracy_type\n",
    "    details[counter]['source'] = source    \n",
    "    if loc.formatted_address[-8:-6] == 'DC':\n",
    "        print \"in DC\"\n",
    "        counter += 1\n",
    "    if loc.formatted_address[-8:-6] == 'AS':\n",
    "        print \"in AS\"\n",
    "        flds = loc.values()[0][0]['fields']    \n",
    "        cd=flds['congressional_district']['district_number']\n",
    "        details[counter] = {}\n",
    "        details[counter]['cd'] = cd\n",
    "        counter += 1\n",
    "    else:\n",
    "        components = results['address_components']\n",
    "        state = components['state']\n",
    "        county = components['county']\n",
    "        cd = fields['congressional_district']['district_number']\n",
    "        sl = fields['state_legislative_districts']['house']['district_number']\n",
    "        su = fields['state_legislative_districts']['senate']['district_number']\n",
    "\n",
    "        source = results['source']\n",
    "        details[counter]['state'] = state\n",
    "        details[counter]['cd'] = cd\n",
    "        details[counter]['sl'] = sl\n",
    "        details[counter]['su'] = su\n",
    "        details[counter]['county'] = county\n",
    "\n",
    "\n",
    "\n",
    "        counter += 1\n",
    "print details\n",
    "\n",
    "\n",
    "# su = fields['state_legislative_districts']['senate']['district_number']\n",
    "# sl = fields['state_legislative_districts']['house']['district_number']\n",
    "# su_name = fields['state_legislative_districts']['senate']['name']\n",
    "# sl_name = fields['state_legislative_districts']['house']['name']\n",
    "\n",
    "# cty = results['address_components']['county']\n",
    "# state = results['address_components']['state']\n",
    "\n",
    "\n"
   ]
  },
  {
   "cell_type": "code",
   "execution_count": null,
   "metadata": {
    "collapsed": true
   },
   "outputs": [],
   "source": []
  },
  {
   "cell_type": "code",
   "execution_count": null,
   "metadata": {},
   "outputs": [],
   "source": [
    "# pr_location = client.reverse((-66.405977,18.454233), fields=[\"cd\", \"stateleg\", \"census\"])\n",
    "as_location = client.reverse((-14.278056,-170.7025), fields=[\"cd\", \"stateleg\", \"census\"])\n",
    "as_location"
   ]
  },
  {
   "cell_type": "code",
   "execution_count": null,
   "metadata": {
    "collapsed": true,
    "scrolled": true
   },
   "outputs": [],
   "source": [
    "fields = locations.values()[1][0]['fields']\n",
    "cd = fields['congressional_district']['district_number']\n",
    "sl = fields['state_legislative_districts']['house']['district_number']\n",
    "su = fields['state_legislative_districts']['senate']['district_number']\n",
    "type(fields)\n",
    "\n",
    "\n",
    "locations.get('38.879138,-76.98187')[0]['congressional_district']"
   ]
  },
  {
   "cell_type": "code",
   "execution_count": null,
   "metadata": {
    "collapsed": true
   },
   "outputs": [],
   "source": [
    "geocoded_addresses[0]['results'][0]['location']"
   ]
  },
  {
   "cell_type": "code",
   "execution_count": null,
   "metadata": {
    "collapsed": true
   },
   "outputs": [],
   "source": []
  },
  {
   "cell_type": "code",
   "execution_count": null,
   "metadata": {
    "collapsed": true
   },
   "outputs": [],
   "source": [
    "sample_locations1 = client.reverse([\n",
    "        (33.738987, -116.4083),\n",
    "        (33.738987, -106.4083),\n",
    "        (38.879138, -76.98187)\n",
    "    ],  fields=[\"cd\", \"stateleg\"])\n",
    "sample_locations.lookups"
   ]
  },
  {
   "cell_type": "code",
   "execution_count": null,
   "metadata": {
    "collapsed": true,
    "scrolled": true
   },
   "outputs": [],
   "source": [
    "sample_locations.get((38.879138,-76.98187))"
   ]
  },
  {
   "cell_type": "code",
   "execution_count": null,
   "metadata": {
    "collapsed": true
   },
   "outputs": [],
   "source": [
    "sample_locations.formatted_addresses"
   ]
  },
  {
   "cell_type": "code",
   "execution_count": null,
   "metadata": {},
   "outputs": [],
   "source": [
    "sample_locations"
   ]
  },
  {
   "cell_type": "code",
   "execution_count": null,
   "metadata": {
    "collapsed": true
   },
   "outputs": [],
   "source": [
    "# locations.get('')\n",
    "sample_locations.get('results')"
   ]
  },
  {
   "cell_type": "code",
   "execution_count": null,
   "metadata": {
    "collapsed": true
   },
   "outputs": [],
   "source": [
    "'''\n",
    "{\n",
    "'4324': '(37.3256, -105.63459),\n",
    "'4356': {'lat': 0, 'lon': 180, 'district': 4}\n",
    "}\n",
    "'''"
   ]
  },
  {
   "cell_type": "code",
   "execution_count": null,
   "metadata": {},
   "outputs": [],
   "source": [
    "# withdistricts= client.geocode(\"3443 Guilford Terrace, Baltimore, MD 21218\", fields=['cd', 'stateleg','census'])\n",
    "# withdistricts= client.geocode(\"Pago Pago, AS 96799\", fields=['cd', 'stateleg','census'])\n",
    "withdistricts = client.reverse((-14.278056,-170.7025), fields=[\"cd\", \"stateleg\", \"census\"])\n",
    "\n",
    "# geo2.lookups\n",
    "results = withdistricts.values()[0][0]\n",
    "fields = results['fields']\n",
    "census= fields['census']\n",
    "cd = fields['congressional_district']['district_number']\n",
    "# su = fields['state_legislative_districts']['senate']['district_number']\n",
    "# sl = fields['state_legislative_districts']['house']['district_number']\n",
    "# su_name = fields['state_legislative_districts']['senate']['name']\n",
    "# sl_name = fields['state_legislative_districts']['house']['name']\n",
    "cty = results['address_components']['county']\n",
    "state = results['address_components']['state']\n",
    "accuracy = results['accuracy']\n",
    "accuracy_type = results['accuracy_type']\n",
    "source = results['source']\n",
    "census_year = census['census_year']\n",
    "state_fips = census['state_fips']\n",
    "county_fips = census['county_fips']\n",
    "place_fips = census['place_fips']\n",
    "tract_code = census['tract_code']\n",
    "block_code = census['block_code']\n",
    "block_group = census['block_group']\n",
    "\n",
    "# withdistricts.accuracy\n",
    "# withdistricts.values()\n",
    "# # withdistricts.fields\n",
    "withdistricts.values()\n",
    "# print cd, su, sl, su_name, sl_name, cty, state, accuracy, accuracy_type, source, census_year,state_fips,county_fips,place_fips,tract_code,block_code,block_group\n",
    "print cd, cty, state, accuracy, accuracy_type, source, census_year,state_fips,county_fips,place_fips,tract_code,block_code,block_group\n",
    "\n"
   ]
  },
  {
   "cell_type": "code",
   "execution_count": null,
   "metadata": {
    "scrolled": true
   },
   "outputs": [],
   "source": [
    "Chart(funding_bar_data).mark_bar().encode(\n",
    "    X('Year:T', timeUnit='year'),\n",
    "#     Y('Funding:Q', aggregate='sum'),\n",
    "    y='sum(Funding):Q',\n",
    "#     Color('grant_loan')\n",
    "    color='grant_loan:N',\n",
    ")"
   ]
  },
  {
   "cell_type": "code",
   "execution_count": null,
   "metadata": {},
   "outputs": [],
   "source": [
    "Chart(kyf2).mark_bar().encode(\n",
    "    x=X('Year:T', timeUnit='year'),\n",
    "    y='count(*)',\n",
    "    color='grant_loan',\n",
    ")"
   ]
  },
  {
   "cell_type": "code",
   "execution_count": null,
   "metadata": {},
   "outputs": [],
   "source": [
    "axis('equal');\n",
    "pie(counts, labels=counts.index);\n",
    "show()"
   ]
  }
 ],
 "metadata": {
  "kernelspec": {
   "display_name": "Python 2",
   "language": "python",
   "name": "python2"
  },
  "language_info": {
   "codemirror_mode": {
    "name": "ipython",
    "version": 2
   },
   "file_extension": ".py",
   "mimetype": "text/x-python",
   "name": "python",
   "nbconvert_exporter": "python",
   "pygments_lexer": "ipython2",
   "version": "2.7.9"
  }
 },
 "nbformat": 4,
 "nbformat_minor": 1
}
