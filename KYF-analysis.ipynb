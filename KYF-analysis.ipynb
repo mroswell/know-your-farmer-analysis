{
 "cells": [
  {
   "cell_type": "code",
   "execution_count": 186,
   "metadata": {
    "collapsed": false
   },
   "outputs": [],
   "source": [
    "import re\n",
    "from geocodio import GeocodioClient\n",
    "client = GeocodioClient('0f669aa4d57d7dab0ba9b8dd049a9957678985d')\n",
    "\n",
    "import pandas as pd"
   ]
  },
  {
   "cell_type": "code",
   "execution_count": 187,
   "metadata": {
    "collapsed": false,
    "scrolled": true
   },
   "outputs": [],
   "source": [
    "kyf2 = pd.read_excel('KYF2 new compass data 2015.xls', dtype={'Year':'str'}, skip_footer=2, encoding='xlrd')\n",
    "kyf2.rename(columns={'X': 'lon', 'Y':'lat'}, inplace=True)\n",
    "# kyf2.reset_index(inplace=True)\n",
    "# kyf_for_geocodio = kyf2[['index',  'lat', 'lon', 'Address', 'State', 'Town', 'Zip']]\n",
    "# kyf_for_geocodio.to_csv('kyf2latlon1.csv', encoding='utf-8')\n",
    "\n"
   ]
  },
  {
   "cell_type": "code",
   "execution_count": 162,
   "metadata": {
    "collapsed": false
   },
   "outputs": [
    {
     "data": {
      "text/html": [
       "<div>\n",
       "<style>\n",
       "    .dataframe thead tr:only-child th {\n",
       "        text-align: right;\n",
       "    }\n",
       "\n",
       "    .dataframe thead th {\n",
       "        text-align: left;\n",
       "    }\n",
       "\n",
       "    .dataframe tbody tr th {\n",
       "        vertical-align: top;\n",
       "    }\n",
       "</style>\n",
       "<table border=\"1\" class=\"dataframe\">\n",
       "  <thead>\n",
       "    <tr style=\"text-align: right;\">\n",
       "      <th></th>\n",
       "      <th>lat</th>\n",
       "      <th>lon</th>\n",
       "    </tr>\n",
       "  </thead>\n",
       "  <tbody>\n",
       "    <tr>\n",
       "      <th>3031</th>\n",
       "      <td>45.544078</td>\n",
       "      <td>-122.558099</td>\n",
       "    </tr>\n",
       "    <tr>\n",
       "      <th>2362</th>\n",
       "      <td>40.552831</td>\n",
       "      <td>-96.818048</td>\n",
       "    </tr>\n",
       "    <tr>\n",
       "      <th>1235</th>\n",
       "      <td>38.244942</td>\n",
       "      <td>-95.333217</td>\n",
       "    </tr>\n",
       "    <tr>\n",
       "      <th>1767</th>\n",
       "      <td>42.647007</td>\n",
       "      <td>-83.355969</td>\n",
       "    </tr>\n",
       "    <tr>\n",
       "      <th>1935</th>\n",
       "      <td>39.063493</td>\n",
       "      <td>-94.681917</td>\n",
       "    </tr>\n",
       "    <tr>\n",
       "      <th>1919</th>\n",
       "      <td>37.382848</td>\n",
       "      <td>-93.168708</td>\n",
       "    </tr>\n",
       "    <tr>\n",
       "      <th>1824</th>\n",
       "      <td>44.954197</td>\n",
       "      <td>-93.097580</td>\n",
       "    </tr>\n",
       "    <tr>\n",
       "      <th>3495</th>\n",
       "      <td>29.781386</td>\n",
       "      <td>-95.353672</td>\n",
       "    </tr>\n",
       "    <tr>\n",
       "      <th>72</th>\n",
       "      <td>32.378702</td>\n",
       "      <td>-86.278251</td>\n",
       "    </tr>\n",
       "    <tr>\n",
       "      <th>108</th>\n",
       "      <td>33.659360</td>\n",
       "      <td>-85.831395</td>\n",
       "    </tr>\n",
       "    <tr>\n",
       "      <th>2619</th>\n",
       "      <td>43.317241</td>\n",
       "      <td>-78.629251</td>\n",
       "    </tr>\n",
       "    <tr>\n",
       "      <th>467</th>\n",
       "      <td>38.249115</td>\n",
       "      <td>-122.482699</td>\n",
       "    </tr>\n",
       "    <tr>\n",
       "      <th>2868</th>\n",
       "      <td>41.127001</td>\n",
       "      <td>-80.624560</td>\n",
       "    </tr>\n",
       "    <tr>\n",
       "      <th>3209</th>\n",
       "      <td>41.801012</td>\n",
       "      <td>-71.424219</td>\n",
       "    </tr>\n",
       "    <tr>\n",
       "      <th>2349</th>\n",
       "      <td>41.258203</td>\n",
       "      <td>-95.937107</td>\n",
       "    </tr>\n",
       "    <tr>\n",
       "      <th>365</th>\n",
       "      <td>38.579842</td>\n",
       "      <td>-121.493569</td>\n",
       "    </tr>\n",
       "    <tr>\n",
       "      <th>190</th>\n",
       "      <td>31.549110</td>\n",
       "      <td>-110.267978</td>\n",
       "    </tr>\n",
       "    <tr>\n",
       "      <th>142</th>\n",
       "      <td>35.789701</td>\n",
       "      <td>-92.310800</td>\n",
       "    </tr>\n",
       "    <tr>\n",
       "      <th>440</th>\n",
       "      <td>38.018574</td>\n",
       "      <td>-122.526231</td>\n",
       "    </tr>\n",
       "    <tr>\n",
       "      <th>1189</th>\n",
       "      <td>39.793269</td>\n",
       "      <td>-85.755725</td>\n",
       "    </tr>\n",
       "    <tr>\n",
       "      <th>2491</th>\n",
       "      <td>39.656421</td>\n",
       "      <td>-75.090009</td>\n",
       "    </tr>\n",
       "    <tr>\n",
       "      <th>106</th>\n",
       "      <td>33.184453</td>\n",
       "      <td>-86.257777</td>\n",
       "    </tr>\n",
       "    <tr>\n",
       "      <th>1836</th>\n",
       "      <td>46.795953</td>\n",
       "      <td>-92.098340</td>\n",
       "    </tr>\n",
       "    <tr>\n",
       "      <th>3692</th>\n",
       "      <td>38.423246</td>\n",
       "      <td>-78.875009</td>\n",
       "    </tr>\n",
       "    <tr>\n",
       "      <th>383</th>\n",
       "      <td>32.742023</td>\n",
       "      <td>-117.095380</td>\n",
       "    </tr>\n",
       "    <tr>\n",
       "      <th>1132</th>\n",
       "      <td>42.176971</td>\n",
       "      <td>-88.411967</td>\n",
       "    </tr>\n",
       "    <tr>\n",
       "      <th>3887</th>\n",
       "      <td>48.419517</td>\n",
       "      <td>-122.337832</td>\n",
       "    </tr>\n",
       "    <tr>\n",
       "      <th>745</th>\n",
       "      <td>33.961839</td>\n",
       "      <td>-83.385513</td>\n",
       "    </tr>\n",
       "    <tr>\n",
       "      <th>3067</th>\n",
       "      <td>40.299851</td>\n",
       "      <td>-76.589440</td>\n",
       "    </tr>\n",
       "    <tr>\n",
       "      <th>1593</th>\n",
       "      <td>44.311698</td>\n",
       "      <td>-69.790940</td>\n",
       "    </tr>\n",
       "  </tbody>\n",
       "</table>\n",
       "</div>"
      ],
      "text/plain": [
       "            lat         lon\n",
       "3031  45.544078 -122.558099\n",
       "2362  40.552831  -96.818048\n",
       "1235  38.244942  -95.333217\n",
       "1767  42.647007  -83.355969\n",
       "1935  39.063493  -94.681917\n",
       "1919  37.382848  -93.168708\n",
       "1824  44.954197  -93.097580\n",
       "3495  29.781386  -95.353672\n",
       "72    32.378702  -86.278251\n",
       "108   33.659360  -85.831395\n",
       "2619  43.317241  -78.629251\n",
       "467   38.249115 -122.482699\n",
       "2868  41.127001  -80.624560\n",
       "3209  41.801012  -71.424219\n",
       "2349  41.258203  -95.937107\n",
       "365   38.579842 -121.493569\n",
       "190   31.549110 -110.267978\n",
       "142   35.789701  -92.310800\n",
       "440   38.018574 -122.526231\n",
       "1189  39.793269  -85.755725\n",
       "2491  39.656421  -75.090009\n",
       "106   33.184453  -86.257777\n",
       "1836  46.795953  -92.098340\n",
       "3692  38.423246  -78.875009\n",
       "383   32.742023 -117.095380\n",
       "1132  42.176971  -88.411967\n",
       "3887  48.419517 -122.337832\n",
       "745   33.961839  -83.385513\n",
       "3067  40.299851  -76.589440\n",
       "1593  44.311698  -69.790940"
      ]
     },
     "execution_count": 162,
     "metadata": {},
     "output_type": "execute_result"
    }
   ],
   "source": [
    "locations = kyf2[['lat', 'lon']].sample(30).head(30)\n",
    "locationlist = locations.values.tolist()\n",
    "len(locationlist)\n",
    "locations"
   ]
  },
  {
   "cell_type": "code",
   "execution_count": 163,
   "metadata": {
    "collapsed": false,
    "scrolled": true
   },
   "outputs": [
    {
     "data": {
      "text/plain": [
       "[(39.770591000000003, -86.156177999999997),\n",
       " (41.099989999999998, -80.646371000000002),\n",
       " (41.874360000000003, -112.149781),\n",
       " (35.820881, -78.583180999999996),\n",
       " (35.847194000000002, -78.629320000000007),\n",
       " (42.967571999999997, -71.447361000000001),\n",
       " (34.89866, -107.58698800000001),\n",
       " (43.129984, -77.602669000000006),\n",
       " (45.511789, -122.675631),\n",
       " (38.716622999999998, -92.279276999999993),\n",
       " (44.979028999999997, -93.264932000000002),\n",
       " (45.471747000000001, -85.059032000000002),\n",
       " (47.693879000000003, -114.163392),\n",
       " (40.725907999999997, -111.940127),\n",
       " (40.309584000000001, -76.878986999999995),\n",
       " (40.478870000000001, -88.987899999999996),\n",
       " (44.407060999999999, -93.038672000000005),\n",
       " (38.89546, -77.013615999999999),\n",
       " (32.372458000000002, -81.557286000000005),\n",
       " (39.833461999999997, -77.228896000000006),\n",
       " (38.987490000000001, -76.942198000000005),\n",
       " (44.943936000000001, -123.025851),\n",
       " (41.083993, -85.164580999999998),\n",
       " (38.553294000000001, -121.75729699999999),\n",
       " (44.475921, -73.213232000000005),\n",
       " (39.626617000000003, -79.960722000000004),\n",
       " (42.133451999999998, -87.761127000000002),\n",
       " (44.311698, -69.790940000000006),\n",
       " (37.973914000000001, -121.31488),\n",
       " (41.792982000000002, -93.520670999999993)]"
      ]
     },
     "execution_count": 163,
     "metadata": {},
     "output_type": "execute_result"
    }
   ],
   "source": [
    "locations['coords']=tuple(zip(locations.lat, locations.lon))\n",
    "locations['coords'].tolist()\n",
    "# coordscol = locations['coords']\n",
    "# coordscol.tolist\n",
    "loclist"
   ]
  },
  {
   "cell_type": "code",
   "execution_count": 164,
   "metadata": {
    "collapsed": false
   },
   "outputs": [
    {
     "data": {
      "text/plain": [
       "[{u'address_components': {u'city': u'Baltimore',\n",
       "   u'country': u'US',\n",
       "   u'formatted_street': u'Guilford Ter',\n",
       "   u'number': u'3443',\n",
       "   u'state': u'MD',\n",
       "   u'street': u'Guilford',\n",
       "   u'suffix': u'Ter',\n",
       "   u'zip': u'21218'},\n",
       "  u'formatted_address': u'3443 Guilford Ter, Baltimore, MD 21218'},\n",
       " [{u'accuracy': 1,\n",
       "   u'accuracy_type': u'rooftop',\n",
       "   u'address_components': {u'city': u'Baltimore',\n",
       "    u'country': u'US',\n",
       "    u'county': u'Baltimore city',\n",
       "    u'formatted_street': u'Guilford Ter',\n",
       "    u'number': u'3443',\n",
       "    u'state': u'MD',\n",
       "    u'street': u'Guilford',\n",
       "    u'suffix': u'Ter',\n",
       "    u'zip': u'21218'},\n",
       "   u'fields': {u'congressional_district': {u'congress_number': u'115th',\n",
       "     u'congress_years': u'2017-2019',\n",
       "     u'district_number': 7,\n",
       "     u'name': u'Congressional District 7'},\n",
       "    u'state_legislative_districts': {u'house': {u'district_number': u'43',\n",
       "      u'name': u'State Legislative District 43'},\n",
       "     u'senate': {u'district_number': u'43',\n",
       "      u'name': u'State Senate District 43'}}},\n",
       "   u'formatted_address': u'3443 Guilford Ter, Baltimore, MD 21218',\n",
       "   u'location': {u'lat': 39.330994, u'lng': -76.612043},\n",
       "   u'source': u'Maryland Department of Planning & State Department of Assessments and Taxation'}]]"
      ]
     },
     "execution_count": 164,
     "metadata": {},
     "output_type": "execute_result"
    }
   ],
   "source": [
    "withdistricts= client.geocode(\"3443 Guilford Terrace, Baltimore, MD 21218\", fields=[\"cd\", \"stateleg\"])\n",
    "# geo2.lookups\n",
    "fields = withdistricts.values()[1][0]['fields']\n",
    "cd = fields['congressional_district']['district_number']\n",
    "sl = fields['state_legislative_districts']['house']['district_number']\n",
    "su = fields['state_legislative_districts']['senate']['district_number']\n",
    "# withdistricts.accuracy\n",
    "# withdistricts.values()\n",
    "# # withdistricts.fields\n",
    "withdistricts.values()"
   ]
  },
  {
   "cell_type": "code",
   "execution_count": 165,
   "metadata": {
    "collapsed": false,
    "scrolled": true
   },
   "outputs": [
    {
     "name": "stdout",
     "output_type": "stream",
     "text": [
      "\n"
     ]
    },
    {
     "ename": "AttributeError",
     "evalue": "'Location' object has no attribute 'form'",
     "output_type": "error",
     "traceback": [
      "\u001b[0;31m---------------------------------------------------------------------------\u001b[0m",
      "\u001b[0;31mAttributeError\u001b[0m                            Traceback (most recent call last)",
      "\u001b[0;32m<ipython-input-165-36ad0c23d916>\u001b[0m in \u001b[0;36m<module>\u001b[0;34m()\u001b[0m\n\u001b[1;32m      2\u001b[0m \u001b[0;32mprint\u001b[0m\u001b[0;34m\u001b[0m\u001b[0m\n\u001b[1;32m      3\u001b[0m \u001b[0mlocation\u001b[0m\u001b[0;34m.\u001b[0m\u001b[0mvalues\u001b[0m\u001b[0;34m(\u001b[0m\u001b[0;34m)\u001b[0m\u001b[0;34m[\u001b[0m\u001b[0;36m0\u001b[0m\u001b[0;34m]\u001b[0m\u001b[0;34m[\u001b[0m\u001b[0;36m0\u001b[0m\u001b[0;34m]\u001b[0m\u001b[0;34m[\u001b[0m\u001b[0;34m'fields'\u001b[0m\u001b[0;34m]\u001b[0m\u001b[0;34m[\u001b[0m\u001b[0;34m'congressional_district'\u001b[0m\u001b[0;34m]\u001b[0m\u001b[0;34m[\u001b[0m\u001b[0;34m'district_number'\u001b[0m\u001b[0;34m]\u001b[0m\u001b[0;34m\u001b[0m\u001b[0m\n\u001b[0;32m----> 4\u001b[0;31m \u001b[0mlocation\u001b[0m\u001b[0;34m.\u001b[0m\u001b[0mform\u001b[0m\u001b[0;34m\u001b[0m\u001b[0m\n\u001b[0m",
      "\u001b[0;31mAttributeError\u001b[0m: 'Location' object has no attribute 'form'"
     ]
    }
   ],
   "source": [
    "location = client.reverse((33.738987, -116.4083), fields=[\"cd\", \"stateleg\", \"census\"])\n",
    "print \n",
    "location.values()[0][0]['fields']['congressional_district']['district_number']\n",
    "location.form"
   ]
  },
  {
   "cell_type": "code",
   "execution_count": 166,
   "metadata": {
    "collapsed": false
   },
   "outputs": [
    {
     "data": {
      "text/plain": [
       "[u'42331 Bob Hope Dr, Rancho Mirage, CA 92270',\n",
       " u'42331 Bob Hope Dr, Rancho Mirage, CA 92270',\n",
       " u'1585 Freedom Way, Washington, DC 20003']"
      ]
     },
     "execution_count": 166,
     "metadata": {},
     "output_type": "execute_result"
    }
   ],
   "source": [
    "sample_locations.formatted_addresses"
   ]
  },
  {
   "cell_type": "code",
   "execution_count": 167,
   "metadata": {
    "collapsed": false
   },
   "outputs": [
    {
     "data": {
      "text/plain": [
       "[{u'results': [{u'accuracy': 1,\n",
       "    u'accuracy_type': u'nearest_street',\n",
       "    u'address_components': {u'city': u'Rancho Mirage',\n",
       "     u'country': u'US',\n",
       "     u'county': u'Riverside County',\n",
       "     u'formatted_street': u'Bob Hope Dr',\n",
       "     u'number': u'42331',\n",
       "     u'state': u'CA',\n",
       "     u'street': u'Bob Hope',\n",
       "     u'suffix': u'Dr',\n",
       "     u'zip': u'92270'},\n",
       "    u'fields': {u'congressional_district': {u'congress_number': u'115th',\n",
       "      u'congress_years': u'2017-2019',\n",
       "      u'district_number': 36,\n",
       "      u'name': u'Congressional District 36'},\n",
       "     u'state_legislative_districts': {u'house': {u'district_number': u'42',\n",
       "       u'name': u'Assembly District 42'},\n",
       "      u'senate': {u'district_number': u'28',\n",
       "       u'name': u'State Senate District 28'}}},\n",
       "    u'formatted_address': u'42331 Bob Hope Dr, Rancho Mirage, CA 92270',\n",
       "    u'location': {u'lat': 33.738861, u'lng': -116.408187},\n",
       "    u'source': u'TIGER/Line\\xae dataset from the US Census Bureau'},\n",
       "   {u'accuracy': 0.15,\n",
       "    u'accuracy_type': u'nearest_street',\n",
       "    u'address_components': {u'city': u'Rancho Mirage',\n",
       "     u'country': u'US',\n",
       "     u'county': u'Riverside County',\n",
       "     u'formatted_street': u'Bob Hope Dr',\n",
       "     u'number': u'42910',\n",
       "     u'state': u'CA',\n",
       "     u'street': u'Bob Hope',\n",
       "     u'suffix': u'Dr',\n",
       "     u'zip': u'92270'},\n",
       "    u'fields': {u'congressional_district': {u'congress_number': u'115th',\n",
       "      u'congress_years': u'2017-2019',\n",
       "      u'district_number': 36,\n",
       "      u'name': u'Congressional District 36'},\n",
       "     u'state_legislative_districts': {u'house': {u'district_number': u'42',\n",
       "       u'name': u'Assembly District 42'},\n",
       "      u'senate': {u'district_number': u'28',\n",
       "       u'name': u'State Senate District 28'}}},\n",
       "    u'formatted_address': u'42910 Bob Hope Dr, Rancho Mirage, CA 92270',\n",
       "    u'location': {u'lat': 33.737896, u'lng': -116.408453},\n",
       "    u'source': u'TIGER/Line\\xae dataset from the US Census Bureau'},\n",
       "   {u'accuracy': 0.13,\n",
       "    u'accuracy_type': u'nearest_street',\n",
       "    u'address_components': {u'city': u'Rancho Mirage',\n",
       "     u'country': u'US',\n",
       "     u'county': u'Riverside County',\n",
       "     u'formatted_street': u'Petunia Way',\n",
       "     u'number': u'72003',\n",
       "     u'state': u'CA',\n",
       "     u'street': u'Petunia',\n",
       "     u'suffix': u'Way',\n",
       "     u'zip': u'92270'},\n",
       "    u'fields': {u'congressional_district': {u'congress_number': u'115th',\n",
       "      u'congress_years': u'2017-2019',\n",
       "      u'district_number': 36,\n",
       "      u'name': u'Congressional District 36'},\n",
       "     u'state_legislative_districts': {u'house': {u'district_number': u'42',\n",
       "       u'name': u'Assembly District 42'},\n",
       "      u'senate': {u'district_number': u'28',\n",
       "       u'name': u'State Senate District 28'}}},\n",
       "    u'formatted_address': u'72003 Petunia Way, Rancho Mirage, CA 92270',\n",
       "    u'location': {u'lat': 33.738815, u'lng': -116.406987},\n",
       "    u'source': u'TIGER/Line\\xae dataset from the US Census Bureau'}]},\n",
       " {u'results': [{u'accuracy': 1,\n",
       "    u'accuracy_type': u'nearest_street',\n",
       "    u'address_components': {u'city': u'Rancho Mirage',\n",
       "     u'country': u'US',\n",
       "     u'county': u'Riverside County',\n",
       "     u'formatted_street': u'Bob Hope Dr',\n",
       "     u'number': u'42331',\n",
       "     u'state': u'CA',\n",
       "     u'street': u'Bob Hope',\n",
       "     u'suffix': u'Dr',\n",
       "     u'zip': u'92270'},\n",
       "    u'fields': {u'congressional_district': {u'congress_number': u'115th',\n",
       "      u'congress_years': u'2017-2019',\n",
       "      u'district_number': 36,\n",
       "      u'name': u'Congressional District 36'},\n",
       "     u'state_legislative_districts': {u'house': {u'district_number': u'42',\n",
       "       u'name': u'Assembly District 42'},\n",
       "      u'senate': {u'district_number': u'28',\n",
       "       u'name': u'State Senate District 28'}}},\n",
       "    u'formatted_address': u'42331 Bob Hope Dr, Rancho Mirage, CA 92270',\n",
       "    u'location': {u'lat': 33.738861, u'lng': -116.408187},\n",
       "    u'source': u'TIGER/Line\\xae dataset from the US Census Bureau'},\n",
       "   {u'accuracy': 0.15,\n",
       "    u'accuracy_type': u'nearest_street',\n",
       "    u'address_components': {u'city': u'Rancho Mirage',\n",
       "     u'country': u'US',\n",
       "     u'county': u'Riverside County',\n",
       "     u'formatted_street': u'Bob Hope Dr',\n",
       "     u'number': u'42910',\n",
       "     u'state': u'CA',\n",
       "     u'street': u'Bob Hope',\n",
       "     u'suffix': u'Dr',\n",
       "     u'zip': u'92270'},\n",
       "    u'fields': {u'congressional_district': {u'congress_number': u'115th',\n",
       "      u'congress_years': u'2017-2019',\n",
       "      u'district_number': 36,\n",
       "      u'name': u'Congressional District 36'},\n",
       "     u'state_legislative_districts': {u'house': {u'district_number': u'42',\n",
       "       u'name': u'Assembly District 42'},\n",
       "      u'senate': {u'district_number': u'28',\n",
       "       u'name': u'State Senate District 28'}}},\n",
       "    u'formatted_address': u'42910 Bob Hope Dr, Rancho Mirage, CA 92270',\n",
       "    u'location': {u'lat': 33.737896, u'lng': -116.408453},\n",
       "    u'source': u'TIGER/Line\\xae dataset from the US Census Bureau'},\n",
       "   {u'accuracy': 0.13,\n",
       "    u'accuracy_type': u'nearest_street',\n",
       "    u'address_components': {u'city': u'Rancho Mirage',\n",
       "     u'country': u'US',\n",
       "     u'county': u'Riverside County',\n",
       "     u'formatted_street': u'Petunia Way',\n",
       "     u'number': u'72003',\n",
       "     u'state': u'CA',\n",
       "     u'street': u'Petunia',\n",
       "     u'suffix': u'Way',\n",
       "     u'zip': u'92270'},\n",
       "    u'fields': {u'congressional_district': {u'congress_number': u'115th',\n",
       "      u'congress_years': u'2017-2019',\n",
       "      u'district_number': 36,\n",
       "      u'name': u'Congressional District 36'},\n",
       "     u'state_legislative_districts': {u'house': {u'district_number': u'42',\n",
       "       u'name': u'Assembly District 42'},\n",
       "      u'senate': {u'district_number': u'28',\n",
       "       u'name': u'State Senate District 28'}}},\n",
       "    u'formatted_address': u'72003 Petunia Way, Rancho Mirage, CA 92270',\n",
       "    u'location': {u'lat': 33.738815, u'lng': -116.406987},\n",
       "    u'source': u'TIGER/Line\\xae dataset from the US Census Bureau'}]},\n",
       " {u'results': [{u'accuracy': 1,\n",
       "    u'accuracy_type': u'nearest_street',\n",
       "    u'address_components': {u'city': u'Washington',\n",
       "     u'country': u'US',\n",
       "     u'county': u'District of Columbia',\n",
       "     u'formatted_street': u'Freedom Way',\n",
       "     u'number': u'1585',\n",
       "     u'state': u'DC',\n",
       "     u'street': u'Freedom',\n",
       "     u'suffix': u'Way',\n",
       "     u'zip': u'20003'},\n",
       "    u'fields': {u'congressional_district': {u'congress_number': u'115th',\n",
       "      u'congress_years': u'2017-2019',\n",
       "      u'district_number': 98,\n",
       "      u'name': u'Delegate District (at Large)'},\n",
       "     u'state_legislative_districts': {u'senate': {u'district_number': u'6',\n",
       "       u'name': u'Ward 6'}}},\n",
       "    u'formatted_address': u'1585 Freedom Way, Washington, DC 20003',\n",
       "    u'location': {u'lat': 38.879323, u'lng': -76.982035},\n",
       "    u'source': u'TIGER/Line\\xae dataset from the US Census Bureau'},\n",
       "   {u'accuracy': 0.96,\n",
       "    u'accuracy_type': u'nearest_street',\n",
       "    u'address_components': {u'city': u'Washington',\n",
       "     u'country': u'US',\n",
       "     u'county': u'District of Columbia',\n",
       "     u'formatted_street': u'Pennsylvania Ave SE',\n",
       "     u'number': u'1616',\n",
       "     u'postdirectional': u'SE',\n",
       "     u'state': u'DC',\n",
       "     u'street': u'Pennsylvania',\n",
       "     u'suffix': u'Ave',\n",
       "     u'zip': u'20003'},\n",
       "    u'fields': {u'congressional_district': {u'congress_number': u'115th',\n",
       "      u'congress_years': u'2017-2019',\n",
       "      u'district_number': 98,\n",
       "      u'name': u'Delegate District (at Large)'},\n",
       "     u'state_legislative_districts': {u'senate': {u'district_number': u'6',\n",
       "       u'name': u'Ward 6'}}},\n",
       "    u'formatted_address': u'1616 Pennsylvania Ave SE, Washington, DC 20003',\n",
       "    u'location': {u'lat': 38.879027, u'lng': -76.982136},\n",
       "    u'source': u'TIGER/Line\\xae dataset from the US Census Bureau'},\n",
       "   {u'accuracy': 0.7,\n",
       "    u'accuracy_type': u'nearest_street',\n",
       "    u'address_components': {u'city': u'Washington',\n",
       "     u'country': u'US',\n",
       "     u'county': u'District of Columbia',\n",
       "     u'formatted_street': u'Pennsylvania Ave SE',\n",
       "     u'number': u'1536',\n",
       "     u'postdirectional': u'SE',\n",
       "     u'state': u'DC',\n",
       "     u'street': u'Pennsylvania',\n",
       "     u'suffix': u'Ave',\n",
       "     u'zip': u'20003'},\n",
       "    u'fields': {u'congressional_district': {u'congress_number': u'115th',\n",
       "      u'congress_years': u'2017-2019',\n",
       "      u'district_number': 98,\n",
       "      u'name': u'Delegate District (at Large)'},\n",
       "     u'state_legislative_districts': {u'senate': {u'district_number': u'6',\n",
       "       u'name': u'Ward 6'}}},\n",
       "    u'formatted_address': u'1536 Pennsylvania Ave SE, Washington, DC 20003',\n",
       "    u'location': {u'lat': 38.879564, u'lng': -76.983663},\n",
       "    u'source': u'TIGER/Line\\xae dataset from the US Census Bureau'}]}]"
      ]
     },
     "execution_count": 167,
     "metadata": {},
     "output_type": "execute_result"
    }
   ],
   "source": [
    "sample_locations"
   ]
  },
  {
   "cell_type": "code",
   "execution_count": 168,
   "metadata": {
    "collapsed": false
   },
   "outputs": [
    {
     "ename": "KeyError",
     "evalue": "'results'",
     "output_type": "error",
     "traceback": [
      "\u001b[0;31m---------------------------------------------------------------------------\u001b[0m",
      "\u001b[0;31mKeyError\u001b[0m                                  Traceback (most recent call last)",
      "\u001b[0;32m<ipython-input-168-a50874db0eb8>\u001b[0m in \u001b[0;36m<module>\u001b[0;34m()\u001b[0m\n\u001b[1;32m      1\u001b[0m \u001b[0;31m# locations.get('')\u001b[0m\u001b[0;34m\u001b[0m\u001b[0;34m\u001b[0m\u001b[0m\n\u001b[0;32m----> 2\u001b[0;31m \u001b[0msample_locations\u001b[0m\u001b[0;34m.\u001b[0m\u001b[0mget\u001b[0m\u001b[0;34m(\u001b[0m\u001b[0;34m'results'\u001b[0m\u001b[0;34m)\u001b[0m\u001b[0;34m\u001b[0m\u001b[0m\n\u001b[0m",
      "\u001b[0;32m/Users/marjorieroswell/anaconda/lib/python2.7/site-packages/geocodio/data.pyc\u001b[0m in \u001b[0;36mget\u001b[0;34m(self, key)\u001b[0m\n\u001b[1;32m    117\u001b[0m             \u001b[0mkey\u001b[0m \u001b[0;34m=\u001b[0m \u001b[0;34m\"{0}, {1}\"\u001b[0m\u001b[0;34m.\u001b[0m\u001b[0mformat\u001b[0m\u001b[0;34m(\u001b[0m\u001b[0mx\u001b[0m\u001b[0;34m,\u001b[0m \u001b[0my\u001b[0m\u001b[0;34m)\u001b[0m\u001b[0;34m\u001b[0m\u001b[0m\n\u001b[1;32m    118\u001b[0m \u001b[0;34m\u001b[0m\u001b[0m\n\u001b[0;32m--> 119\u001b[0;31m         \u001b[0;32mreturn\u001b[0m \u001b[0mself\u001b[0m\u001b[0;34m[\u001b[0m\u001b[0mself\u001b[0m\u001b[0;34m.\u001b[0m\u001b[0mlookups\u001b[0m\u001b[0;34m[\u001b[0m\u001b[0mkey\u001b[0m\u001b[0;34m]\u001b[0m\u001b[0;34m]\u001b[0m\u001b[0;34m\u001b[0m\u001b[0m\n\u001b[0m\u001b[1;32m    120\u001b[0m \u001b[0;34m\u001b[0m\u001b[0m\n\u001b[1;32m    121\u001b[0m     \u001b[0;34m@\u001b[0m\u001b[0mproperty\u001b[0m\u001b[0;34m\u001b[0m\u001b[0m\n",
      "\u001b[0;31mKeyError\u001b[0m: 'results'"
     ]
    }
   ],
   "source": [
    "# locations.get('')\n",
    "sample_locations.get('results')"
   ]
  },
  {
   "cell_type": "code",
   "execution_count": 169,
   "metadata": {
    "collapsed": false
   },
   "outputs": [
    {
     "data": {
      "text/plain": [
       "\"\\n{\\n'4324': '(37.3256, -105.63459),\\n'4356': {'lat': 0, 'lon': 180, 'district': 4}\\n}\\n\""
      ]
     },
     "execution_count": 169,
     "metadata": {},
     "output_type": "execute_result"
    }
   ],
   "source": [
    "'''\n",
    "{\n",
    "'4324': '(37.3256, -105.63459),\n",
    "'4356': {'lat': 0, 'lon': 180, 'district': 4}\n",
    "}\n",
    "'''"
   ]
  },
  {
   "cell_type": "code",
   "execution_count": 170,
   "metadata": {
    "collapsed": false
   },
   "outputs": [
    {
     "data": {
      "text/plain": [
       "3031    (45.544078, -122.558099)\n",
       "2362     (40.552831, -96.818048)\n",
       "1235     (38.244942, -95.333217)\n",
       "1767     (42.647007, -83.355969)\n",
       "1935     (39.063493, -94.681917)\n",
       "1919     (37.382848, -93.168708)\n",
       "1824      (44.954197, -93.09758)\n",
       "3495     (29.781386, -95.353672)\n",
       "72       (32.378702, -86.278251)\n",
       "108       (33.65936, -85.831395)\n",
       "2619     (43.317241, -78.629251)\n",
       "467     (38.249115, -122.482699)\n",
       "2868      (41.127001, -80.62456)\n",
       "3209     (41.801012, -71.424219)\n",
       "2349     (41.258203, -95.937107)\n",
       "365     (38.579842, -121.493569)\n",
       "190      (31.54911, -110.267978)\n",
       "142        (35.789701, -92.3108)\n",
       "440     (38.018574, -122.526231)\n",
       "1189     (39.793269, -85.755725)\n",
       "2491     (39.656421, -75.090009)\n",
       "106      (33.184453, -86.257777)\n",
       "1836      (46.795953, -92.09834)\n",
       "3692     (38.423246, -78.875009)\n",
       "383      (32.742023, -117.09538)\n",
       "1132     (42.176971, -88.411967)\n",
       "3887    (48.419517, -122.337832)\n",
       "745      (33.961839, -83.385513)\n",
       "3067      (40.299851, -76.58944)\n",
       "1593      (44.311698, -69.79094)\n",
       "Name: coords, dtype: object"
      ]
     },
     "execution_count": 170,
     "metadata": {},
     "output_type": "execute_result"
    }
   ],
   "source": [
    "locations['coords']"
   ]
  },
  {
   "cell_type": "code",
   "execution_count": 171,
   "metadata": {
    "collapsed": false
   },
   "outputs": [
    {
     "data": {
      "text/plain": [
       "{u'32.372458,-81.557286': 18,\n",
       " u'33.738987,-106.4083': 1,\n",
       " u'33.738987,-116.4083': 0,\n",
       " u'34.89866,-107.586988': 6,\n",
       " u'35.820881,-78.583181': 3,\n",
       " u'35.847194,-78.62932': 4,\n",
       " u'37.973914,-121.31488': 28,\n",
       " u'38.553294,-121.757297': 23,\n",
       " u'38.716623,-92.279277': 9,\n",
       " u'38.879138,-76.98187': 2,\n",
       " u'38.89546,-77.013616': 17,\n",
       " u'38.98749,-76.942198': 20,\n",
       " u'39.626617,-79.960722': 25,\n",
       " u'39.770591,-86.156178': 0,\n",
       " u'39.833462,-77.228896': 19,\n",
       " u'40.309584,-76.878987': 14,\n",
       " u'40.47887,-88.9879': 15,\n",
       " u'40.725908,-111.940127': 13,\n",
       " u'41.083993,-85.164581': 22,\n",
       " u'41.09999,-80.646371': 1,\n",
       " u'41.792982,-93.520671': 29,\n",
       " u'41.87436,-112.149781': 2,\n",
       " u'42.133452,-87.761127': 26,\n",
       " u'42.967572,-71.447361': 5,\n",
       " u'43.129984,-77.602669': 7,\n",
       " u'44.311698,-69.79094': 27,\n",
       " u'44.407061,-93.038672': 16,\n",
       " u'44.475921,-73.213232': 24,\n",
       " u'44.943936,-123.025851': 21,\n",
       " u'44.979029,-93.264932': 10,\n",
       " u'45.471747,-85.059032': 11,\n",
       " u'45.511789,-122.675631': 8,\n",
       " u'47.693879,-114.163392': 12}"
      ]
     },
     "execution_count": 171,
     "metadata": {},
     "output_type": "execute_result"
    }
   ],
   "source": [
    "sample_locations1 = client.reverse([\n",
    "        (33.738987, -116.4083),\n",
    "        (33.738987, -106.4083),\n",
    "        (38.879138, -76.98187)\n",
    "    ],  fields=[\"cd\", \"stateleg\"])\n",
    "sample_locations.lookups"
   ]
  },
  {
   "cell_type": "code",
   "execution_count": 172,
   "metadata": {
    "collapsed": false
   },
   "outputs": [
    {
     "name": "stdout",
     "output_type": "stream",
     "text": [
      "36 42 28\n"
     ]
    }
   ],
   "source": [
    "sample_loc_results = sample_locations.get('33.738987,-106.4083')\n",
    "# fields = sample_locations[1][0]['fields']\n",
    "# cd = fields['congressional_district']['district_number']\n",
    "# type(fields)\n",
    "cong_dist = sample_loc_results.values()[0][0]['fields']['congressional_district']['district_number']\n",
    "flds = sample_loc_results.values()[0][0]['fields']\n",
    "cd=flds['congressional_district']['district_number']\n",
    "sl = flds['state_legislative_districts']['house']['district_number']\n",
    "su = flds['state_legislative_districts']['senate']['district_number']\n",
    "print cd, sl, su"
   ]
  },
  {
   "cell_type": "code",
   "execution_count": 173,
   "metadata": {
    "collapsed": false
   },
   "outputs": [
    {
     "data": {
      "text/plain": [
       "{u'32.372458,-81.557286': 18,\n",
       " u'33.738987,-106.4083': 1,\n",
       " u'33.738987,-116.4083': 0,\n",
       " u'34.89866,-107.586988': 6,\n",
       " u'35.820881,-78.583181': 3,\n",
       " u'35.847194,-78.62932': 4,\n",
       " u'37.973914,-121.31488': 28,\n",
       " u'38.553294,-121.757297': 23,\n",
       " u'38.716623,-92.279277': 9,\n",
       " u'38.879138,-76.98187': 2,\n",
       " u'38.89546,-77.013616': 17,\n",
       " u'38.98749,-76.942198': 20,\n",
       " u'39.626617,-79.960722': 25,\n",
       " u'39.770591,-86.156178': 0,\n",
       " u'39.833462,-77.228896': 19,\n",
       " u'40.309584,-76.878987': 14,\n",
       " u'40.47887,-88.9879': 15,\n",
       " u'40.725908,-111.940127': 13,\n",
       " u'41.083993,-85.164581': 22,\n",
       " u'41.09999,-80.646371': 1,\n",
       " u'41.792982,-93.520671': 29,\n",
       " u'41.87436,-112.149781': 2,\n",
       " u'42.133452,-87.761127': 26,\n",
       " u'42.967572,-71.447361': 5,\n",
       " u'43.129984,-77.602669': 7,\n",
       " u'44.311698,-69.79094': 27,\n",
       " u'44.407061,-93.038672': 16,\n",
       " u'44.475921,-73.213232': 24,\n",
       " u'44.943936,-123.025851': 21,\n",
       " u'44.979029,-93.264932': 10,\n",
       " u'45.471747,-85.059032': 11,\n",
       " u'45.511789,-122.675631': 8,\n",
       " u'47.693879,-114.163392': 12}"
      ]
     },
     "execution_count": 173,
     "metadata": {},
     "output_type": "execute_result"
    }
   ],
   "source": [
    "sample_locations.lookups"
   ]
  },
  {
   "cell_type": "code",
   "execution_count": 174,
   "metadata": {
    "collapsed": false,
    "scrolled": true
   },
   "outputs": [
    {
     "ename": "KeyError",
     "evalue": "'38.879138, -76.98187'",
     "output_type": "error",
     "traceback": [
      "\u001b[0;31m---------------------------------------------------------------------------\u001b[0m",
      "\u001b[0;31mKeyError\u001b[0m                                  Traceback (most recent call last)",
      "\u001b[0;32m<ipython-input-174-183cfcf20f24>\u001b[0m in \u001b[0;36m<module>\u001b[0;34m()\u001b[0m\n\u001b[0;32m----> 1\u001b[0;31m \u001b[0msample_locations\u001b[0m\u001b[0;34m.\u001b[0m\u001b[0mget\u001b[0m\u001b[0;34m(\u001b[0m\u001b[0;34m(\u001b[0m\u001b[0;36m38.879138\u001b[0m\u001b[0;34m,\u001b[0m\u001b[0;34m-\u001b[0m\u001b[0;36m76.98187\u001b[0m\u001b[0;34m)\u001b[0m\u001b[0;34m)\u001b[0m\u001b[0;34m\u001b[0m\u001b[0m\n\u001b[0m",
      "\u001b[0;32m/Users/marjorieroswell/anaconda/lib/python2.7/site-packages/geocodio/data.pyc\u001b[0m in \u001b[0;36mget\u001b[0;34m(self, key)\u001b[0m\n\u001b[1;32m    117\u001b[0m             \u001b[0mkey\u001b[0m \u001b[0;34m=\u001b[0m \u001b[0;34m\"{0}, {1}\"\u001b[0m\u001b[0;34m.\u001b[0m\u001b[0mformat\u001b[0m\u001b[0;34m(\u001b[0m\u001b[0mx\u001b[0m\u001b[0;34m,\u001b[0m \u001b[0my\u001b[0m\u001b[0;34m)\u001b[0m\u001b[0;34m\u001b[0m\u001b[0m\n\u001b[1;32m    118\u001b[0m \u001b[0;34m\u001b[0m\u001b[0m\n\u001b[0;32m--> 119\u001b[0;31m         \u001b[0;32mreturn\u001b[0m \u001b[0mself\u001b[0m\u001b[0;34m[\u001b[0m\u001b[0mself\u001b[0m\u001b[0;34m.\u001b[0m\u001b[0mlookups\u001b[0m\u001b[0;34m[\u001b[0m\u001b[0mkey\u001b[0m\u001b[0;34m]\u001b[0m\u001b[0;34m]\u001b[0m\u001b[0;34m\u001b[0m\u001b[0m\n\u001b[0m\u001b[1;32m    120\u001b[0m \u001b[0;34m\u001b[0m\u001b[0m\n\u001b[1;32m    121\u001b[0m     \u001b[0;34m@\u001b[0m\u001b[0mproperty\u001b[0m\u001b[0;34m\u001b[0m\u001b[0m\n",
      "\u001b[0;31mKeyError\u001b[0m: '38.879138, -76.98187'"
     ]
    }
   ],
   "source": [
    "sample_locations.get((38.879138,-76.98187))"
   ]
  },
  {
   "cell_type": "code",
   "execution_count": 176,
   "metadata": {
    "collapsed": false,
    "scrolled": true
   },
   "outputs": [
    {
     "data": {
      "text/plain": [
       "[u'189 N Pennsylvania St, Indianapolis, IN 46204',\n",
       " u'100 N Walnut St, Youngstown, OH 44505',\n",
       " u'20062 State Rte 13, Plymouth, UT 84330',\n",
       " u'3274 Livia Cir, Raleigh, NC 27604',\n",
       " u'4725 Stonehill Dr, Raleigh, NC 27609',\n",
       " u'120 Doris St, Manchester, NH 03103',\n",
       " u'1285 Haaku Rd, Pueblo Of Acoma, NM 87034',\n",
       " u'426 Highland Ave, Rochester, NY 14620',\n",
       " u'1501 SW Front Ave, Portland, OR 97201',\n",
       " u'19623 State Hwy A, Hartsburg, MO 65039',\n",
       " u'249 3rd St S, Minneapolis, MN 55401',\n",
       " u'Harbor Springs, MI 49740',\n",
       " u'298 Main St, Polson, MT 59860',\n",
       " u'1731 W 2100 S, Salt Lake City, UT 84119',\n",
       " u'3463 Apollo Ave, Harrisburg, PA 17110',\n",
       " u'500 E Front St, Bloomington, IL 61701',\n",
       " u'71 375th St, Dundas, MN 55019',\n",
       " u'414 2nd St NW, Washington, DC 20001',\n",
       " u'840 Co Rd 392, Brooklet, GA 30415',\n",
       " u'137 N Stratton St, Gettysburg, PA 17325',\n",
       " u'50 Prenkert Dr, College Park, MD 20740',\n",
       " u'681 Capitol St NE, Salem, OR 97301',\n",
       " u'1725 Howell St, Fort Wayne, IN 46808',\n",
       " u'625 Laurel Pl, Davis, CA 95616',\n",
       " u'148 Main St, Burlington, VT 05401',\n",
       " u'883 Don Knotts Blvd, Morgantown, WV 26505',\n",
       " u'388 Park Ave, Glencoe, IL 60022',\n",
       " u'8 Western Avenue Pl, Augusta, ME 04330',\n",
       " u'1100 W Mariposa Ave, Stockton, CA 95204',\n",
       " u'200 N Trent Ave, Elkhart, IA 50073']"
      ]
     },
     "execution_count": 176,
     "metadata": {},
     "output_type": "execute_result"
    }
   ],
   "source": [
    "kyfgeo = client.reverse(loclist, fields=[\"cd\", \"stateleg\", 'census'])\n",
    "# kyfgeo.get('32.372458,-81.557286')\n",
    "type(kyfgeo)\n",
    "kyfgeo.formatted_addresses"
   ]
  },
  {
   "cell_type": "code",
   "execution_count": 183,
   "metadata": {
    "collapsed": false
   },
   "outputs": [
    {
     "name": "stdout",
     "output_type": "stream",
     "text": [
      "in DC\n",
      "{0: {'sl': u'100', 'su': u'36', 'cd': 7}, 1: {'sl': u'58', 'su': u'33', 'cd': 13}, 2: {'sl': u'1', 'su': u'17', 'cd': 1}, 3: {'sl': u'38', 'su': u'14', 'cd': 4}, 4: {'sl': u'34', 'su': u'15', 'cd': 4}, 5: {'sl': u'515', 'su': u'18', 'cd': 1}, 6: {'sl': u'69', 'su': u'30', 'cd': 2}, 7: {'sl': u'138', 'su': u'61', 'cd': 25}, 8: {'sl': u'36', 'su': u'18', 'cd': 3}, 9: {'sl': u'50', 'su': u'19', 'cd': 4}, 10: {'sl': u'59B', 'su': u'59', 'cd': 5}, 11: {'sl': u'107', 'su': u'37', 'cd': 1}, 12: {'sl': u'12', 'su': u'6', 'cd': 0}, 13: {'sl': u'26', 'su': u'1', 'cd': 2}, 14: {'sl': u'104', 'su': u'15', 'cd': 11}, 15: {'sl': u'88', 'su': u'44', 'cd': 13}, 16: {'sl': u'58B', 'su': u'58', 'cd': 2}, 18: {'sl': u'160', 'su': u'4', 'cd': 12}, 19: {'sl': u'91', 'su': u'33', 'cd': 4}, 20: {'sl': u'21', 'su': u'21', 'cd': 5}, 21: {'sl': u'21', 'su': u'11', 'cd': 5}, 22: {'sl': u'81', 'su': u'16', 'cd': 3}, 23: {'sl': u'4', 'su': u'3', 'cd': 3}, 24: {'sl': u'C63', 'su': u'CHI', 'cd': 0}, 25: {'sl': u'51', 'su': u'13', 'cd': 1}, 26: {'sl': u'18', 'su': u'9', 'cd': 10}, 27: {'sl': u'86', 'su': u'15', 'cd': 1}, 28: {'sl': u'13', 'su': u'5', 'cd': 9}, 29: {'sl': u'30', 'su': u'15', 'cd': 3}}\n"
     ]
    }
   ],
   "source": [
    "dists = {}\n",
    "counter = 0\n",
    "for loc in kyfgeo:\n",
    "    if loc.formatted_address[-8:-6] == 'DC':\n",
    "        print \"in DC\"\n",
    "        counter += 1\n",
    "    else:\n",
    "        flds = loc.values()[0][0]['fields']    \n",
    "        cd=flds['congressional_district']['district_number']\n",
    "        sl = flds['state_legislative_districts']['house']['district_number']\n",
    "        su = flds['state_legislative_districts']['senate']['district_number']\n",
    "        dists[counter] = {}\n",
    "        dists[counter]['cd'] = cd\n",
    "        dists[counter]['sl'] = sl\n",
    "        dists[counter]['su'] = su\n",
    "        counter += 1\n",
    "print dists\n",
    "\n"
   ]
  },
  {
   "cell_type": "code",
   "execution_count": null,
   "metadata": {
    "collapsed": true
   },
   "outputs": [],
   "source": []
  },
  {
   "cell_type": "code",
   "execution_count": 18,
   "metadata": {
    "collapsed": false,
    "scrolled": true
   },
   "outputs": [
    {
     "ename": "TypeError",
     "evalue": "'numpy.ndarray' object is not callable",
     "output_type": "error",
     "traceback": [
      "\u001b[0;31m---------------------------------------------------------------------------\u001b[0m",
      "\u001b[0;31mTypeError\u001b[0m                                 Traceback (most recent call last)",
      "\u001b[0;32m<ipython-input-18-7317ecb0c736>\u001b[0m in \u001b[0;36m<module>\u001b[0;34m()\u001b[0m\n\u001b[0;32m----> 1\u001b[0;31m \u001b[0mfields\u001b[0m \u001b[0;34m=\u001b[0m \u001b[0mlocations\u001b[0m\u001b[0;34m.\u001b[0m\u001b[0mvalues\u001b[0m\u001b[0;34m(\u001b[0m\u001b[0;34m)\u001b[0m\u001b[0;34m[\u001b[0m\u001b[0;36m1\u001b[0m\u001b[0;34m]\u001b[0m\u001b[0;34m[\u001b[0m\u001b[0;36m0\u001b[0m\u001b[0;34m]\u001b[0m\u001b[0;34m[\u001b[0m\u001b[0;34m'fields'\u001b[0m\u001b[0;34m]\u001b[0m\u001b[0;34m\u001b[0m\u001b[0m\n\u001b[0m\u001b[1;32m      2\u001b[0m \u001b[0mcd\u001b[0m \u001b[0;34m=\u001b[0m \u001b[0mfields\u001b[0m\u001b[0;34m[\u001b[0m\u001b[0;34m'congressional_district'\u001b[0m\u001b[0;34m]\u001b[0m\u001b[0;34m[\u001b[0m\u001b[0;34m'district_number'\u001b[0m\u001b[0;34m]\u001b[0m\u001b[0;34m\u001b[0m\u001b[0m\n\u001b[1;32m      3\u001b[0m \u001b[0msl\u001b[0m \u001b[0;34m=\u001b[0m \u001b[0mfields\u001b[0m\u001b[0;34m[\u001b[0m\u001b[0;34m'state_legislative_districts'\u001b[0m\u001b[0;34m]\u001b[0m\u001b[0;34m[\u001b[0m\u001b[0;34m'house'\u001b[0m\u001b[0;34m]\u001b[0m\u001b[0;34m[\u001b[0m\u001b[0;34m'district_number'\u001b[0m\u001b[0;34m]\u001b[0m\u001b[0;34m\u001b[0m\u001b[0m\n\u001b[1;32m      4\u001b[0m \u001b[0msu\u001b[0m \u001b[0;34m=\u001b[0m \u001b[0mfields\u001b[0m\u001b[0;34m[\u001b[0m\u001b[0;34m'state_legislative_districts'\u001b[0m\u001b[0;34m]\u001b[0m\u001b[0;34m[\u001b[0m\u001b[0;34m'senate'\u001b[0m\u001b[0;34m]\u001b[0m\u001b[0;34m[\u001b[0m\u001b[0;34m'district_number'\u001b[0m\u001b[0;34m]\u001b[0m\u001b[0;34m\u001b[0m\u001b[0m\n\u001b[1;32m      5\u001b[0m \u001b[0mtype\u001b[0m\u001b[0;34m(\u001b[0m\u001b[0mfields\u001b[0m\u001b[0;34m)\u001b[0m\u001b[0;34m\u001b[0m\u001b[0m\n",
      "\u001b[0;31mTypeError\u001b[0m: 'numpy.ndarray' object is not callable"
     ]
    }
   ],
   "source": [
    "fields = locations.values()[1][0]['fields']\n",
    "cd = fields['congressional_district']['district_number']\n",
    "sl = fields['state_legislative_districts']['house']['district_number']\n",
    "su = fields['state_legislative_districts']['senate']['district_number']\n",
    "type(fields)\n",
    "\n",
    "\n",
    "locations.get('38.879138,-76.98187')[0]['congressional_district']"
   ]
  },
  {
   "cell_type": "code",
   "execution_count": null,
   "metadata": {
    "collapsed": false
   },
   "outputs": [],
   "source": [
    "geocoded_addresses[0]['results'][0]['location']"
   ]
  },
  {
   "cell_type": "code",
   "execution_count": null,
   "metadata": {
    "collapsed": true
   },
   "outputs": [],
   "source": []
  }
 ],
 "metadata": {
  "kernelspec": {
   "display_name": "Python 2",
   "language": "python",
   "name": "python2"
  },
  "language_info": {
   "codemirror_mode": {
    "name": "ipython",
    "version": 2
   },
   "file_extension": ".py",
   "mimetype": "text/x-python",
   "name": "python",
   "nbconvert_exporter": "python",
   "pygments_lexer": "ipython2",
   "version": "2.7.9"
  }
 },
 "nbformat": 4,
 "nbformat_minor": 0
}
